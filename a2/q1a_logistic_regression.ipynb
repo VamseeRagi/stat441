{
 "cells": [
  {
   "cell_type": "code",
   "execution_count": 1,
   "metadata": {
    "collapsed": true
   },
   "outputs": [],
   "source": [
    "import numpy as np\n",
    "import pandas as pd\n",
    "from scipy.io import loadmat"
   ]
  },
  {
   "cell_type": "code",
   "execution_count": 2,
   "metadata": {
    "collapsed": true
   },
   "outputs": [],
   "source": [
    "data = loadmat('faces.mat')"
   ]
  },
  {
   "cell_type": "code",
   "execution_count": 41,
   "metadata": {
    "collapsed": true
   },
   "outputs": [],
   "source": [
    "training_data = np.concatenate((data['train_faces'], data['train_nonfaces']), \n",
    "                               axis=0)\n",
    "training_data = np.reshape(training_data, (361, 4858))\n",
    "\n",
    "test_data = np.concatenate((data['test_faces'], data['test_nonfaces']),\n",
    "                           axis=0)\n",
    "test_data = np.reshape(test_data, (361, 944))\n",
    "\n",
    "# using 1 to indicate 'face' and 0 to indicate 'not face'\n",
    "training_labels = np.concatenate((np.ones(len(data['train_faces'])),\n",
    "                                  np.zeros(len(data['train_nonfaces']))))\n",
    "test_labels = np.concatenate((np.ones(len(data['test_faces'])),\n",
    "                              np.zeros(len(data['test_nonfaces']))))"
   ]
  },
  {
   "cell_type": "code",
   "execution_count": 86,
   "metadata": {
    "collapsed": true
   },
   "outputs": [],
   "source": [
    "def logistic_regression(X, Y, max_iter=0):\n",
    "    [m, n] = X.shape\n",
    "    B_old = np.zeros(m)\n",
    "    W = np.diag(np.ones(n))\n",
    "    dist = 1\n",
    "    \n",
    "    # While above tolerance level\n",
    "    while dist > 0.01:\n",
    "        btx = np.dot(B_old.T, X)\n",
    "        \n",
    "        # the value of the p.d.f and its derivative\n",
    "        P = np.exp(btx)/(1 + np.exp(btx))\n",
    "        np.fill_diagonal(W, P*(1 - P))\n",
    "        \n",
    "        Winv = np.linalg.inv(W)\n",
    "        Z = np.dot(X.T, B_old) + np.dot(Winv, Y - P)\n",
    "        \n",
    "        XWXt = np.dot(np.dot(X, W), X.T)\n",
    "        XWZ = np.dot(np.dot(X, W), Z)\n",
    "        B_new = np.dot(np.linalg.inv(XWXt), XWZ)\n",
    "        \n",
    "        dist = (np.dot((B_new - B_old).T, (B_new - B_old))) ** 0.5\n",
    "        B_old = B_new\n",
    "        \n",
    "    return B_old\n",
    "\n",
    "betas = logistic_regression(training_data, training_labels)"
   ]
  },
  {
   "cell_type": "code",
   "execution_count": 87,
   "metadata": {},
   "outputs": [
    {
     "name": "stdout",
     "output_type": "stream",
     "text": [
      "The training error is 0.0000% and \n",
      "    the test error is 50.1059%.\n"
     ]
    }
   ],
   "source": [
    "# Calculating the errors\n",
    "def logit_error(X, Y):\n",
    "    btx = np.dot(betas.T, X)\n",
    "    n = len(btx)\n",
    "    predictions = np.ones(n)\n",
    "    wrong = 0.0\n",
    "    \n",
    "    for i in range(n):\n",
    "        if btx[i] < 0:\n",
    "            predictions[i] = 0\n",
    "        \n",
    "        if Y[i] != predictions[i]:\n",
    "            wrong = wrong + 1.0\n",
    "    \n",
    "    return 100.0*wrong/n\n",
    "\n",
    "training_err = logit_error(training_data, training_labels)\n",
    "test_err = logit_error(test_data, test_labels)\n",
    "\n",
    "print '''The training error is %.4f%% and \n",
    "    the test error is %.4f%%.''' % (training_err, test_err)"
   ]
  },
  {
   "cell_type": "code",
   "execution_count": 88,
   "metadata": {},
   "outputs": [
    {
     "name": "stdout",
     "output_type": "stream",
     "text": [
      "The first five components of beta are [ 0.00117913 -0.00338817 -0.00048985 -0.00138774  0.00050729].\n"
     ]
    }
   ],
   "source": [
    "print(\"The first five components of beta are {}.\".format(betas[0:5]))"
   ]
  }
 ],
 "metadata": {
  "kernelspec": {
   "display_name": "Python 2",
   "language": "python",
   "name": "python2"
  },
  "language_info": {
   "codemirror_mode": {
    "name": "ipython",
    "version": 2
   },
   "file_extension": ".py",
   "mimetype": "text/x-python",
   "name": "python",
   "nbconvert_exporter": "python",
   "pygments_lexer": "ipython2",
   "version": "2.7.13"
  }
 },
 "nbformat": 4,
 "nbformat_minor": 2
}
