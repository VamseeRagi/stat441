{
 "cells": [
  {
   "cell_type": "code",
   "execution_count": 157,
   "metadata": {
    "collapsed": true
   },
   "outputs": [],
   "source": [
    "from scipy.io import loadmat\n",
    "import numpy as np"
   ]
  },
  {
   "cell_type": "code",
   "execution_count": 176,
   "metadata": {
    "collapsed": true
   },
   "outputs": [],
   "source": [
    "def sigmoid(x):\n",
    "    return 1.0/(1+np.exp(-x))\n",
    "\n",
    "def sigmoid_derivative(x):\n",
    "    return x*(1.0-x)\n",
    "\n",
    "def softmax(x):\n",
    "    ex = np.exp(x)\n",
    "    return ex/np.sum(ex, axis=1, keepdims=True)"
   ]
  },
  {
   "cell_type": "code",
   "execution_count": 159,
   "metadata": {},
   "outputs": [],
   "source": [
    "# Part (b)\n",
    "ion_train = loadmat(\"Ion.trin.mat\")\n",
    "ion_test = loadmat(\"Ion.test.mat\")"
   ]
  },
  {
   "cell_type": "code",
   "execution_count": 160,
   "metadata": {},
   "outputs": [
    {
     "data": {
      "text/plain": [
       "0.0"
      ]
     },
     "execution_count": 160,
     "metadata": {},
     "output_type": "execute_result"
    }
   ],
   "source": [
    "tst = np.zeros((4,1))\n",
    "tst[2][0]"
   ]
  },
  {
   "cell_type": "code",
   "execution_count": 177,
   "metadata": {},
   "outputs": [],
   "source": [
    "# Part (a)\n",
    "class SingleLayerNN:\n",
    "    def __init__(self, X, y, num_classes = 0, \n",
    "                 hidden = 0, decay = 0.0, epochs = 50, \n",
    "                 seed = 314152, l2 = 0.01, learning_rate = 0.1):\n",
    "        self.X = X\n",
    "        self.y = y\n",
    "        self.epochs = epochs\n",
    "        self.seed = seed\n",
    "        self.l2 = l2\n",
    "        self.lrate = learning_rate\n",
    "        self.decay = 0.0\n",
    "    \n",
    "        d, n = X.shape\n",
    "        if hidden == 0:\n",
    "            self.hidden = n + 1\n",
    "        else:\n",
    "            self.hidden = hidden\n",
    "            \n",
    "        if num_classes == 0:\n",
    "            self.k = len(np.unique(y))\n",
    "        else:\n",
    "            self.k = num_classes\n",
    "            \n",
    "        # Setting a seed to get consistent results when testing\n",
    "        np.random.seed(self.seed)\n",
    "\n",
    "        # Initializing random weights and biases\n",
    "        self.w = np.random.randn(d, self.hidden)/np.sqrt(d)\n",
    "        self.b = np.zeros((1, self.hidden))\n",
    "        ## output layer weights/biases\n",
    "        self.wy = np.random.randn(self.hidden, self.k)/np.sqrt(self.hidden)\n",
    "        self.by = np.zeros((1,self.k))\n",
    "        \n",
    "        # Storing the activations\n",
    "        self.hidden_activation = np.zeros((n, self.hidden))\n",
    "        self.output = np.zeros((n, self.k))\n",
    "        \n",
    "    def feed_forward(self, input_set):\n",
    "        hidden_layer = np.dot(input_set.T, self.w) + self.b\n",
    "        self.hidden_activation = np.tanh(hidden_layer)\n",
    "        output_layer = np.dot(self.hidden_activation, self.wy) + self.by\n",
    "        output_activation = softmax(output_layer)\n",
    "        return output_activation\n",
    "    \n",
    "    def fit(self):\n",
    "        error_rates = [0] * self.epochs\n",
    "        error = 0.0\n",
    "        \n",
    "        for i in range(self.epochs):\n",
    "            # Shuffling the dataset\n",
    "            d, n = self.X.shape\n",
    "            dataset = np.append(self.X, self.y.T, axis = 0)\n",
    "            np.random.shuffle(dataset.T)\n",
    "            input_set = dataset[:d]\n",
    "            targets = np.reshape(dataset[d], (n,1)).astype(int)\n",
    "            self.output = self.feed_forward(input_set)\n",
    "            \n",
    "            # Backpropagation\n",
    "            delta = self.output\n",
    "            delta[range(n), targets] = 1 - delta[range(n), targets]\n",
    "            output_delta = np.dot(self.hidden_activation.T, delta)\n",
    "            delta2 = np.dot(delta, self.wy.T) * (1 - np.power(self.hidden_activation, 2))\n",
    "            hidden_delta = np.dot(self.X, delta2)\n",
    "            \n",
    "            ## Regularization\n",
    "            hidden_reg = self.l2 * self.w\n",
    "            output_reg = self.l2 * self.wy\n",
    "            ## Update weights\n",
    "            self.wy -= self.lrate * (output_delta + output_reg)\n",
    "            self.w -= self.lrate * (hidden_delta + hidden_reg)\n",
    "            ## Update biases\n",
    "            self.by -= self.lrate * np.sum(output_delta, axis=0, keepdims=True) \n",
    "            self.b -= self.lrate * np.sum(hidden_delta, axis=0, keepdims=True)\n",
    "            self.lrate *= 1.0 /(1 + self.decay*i)\n",
    "\n",
    "        return error_rates\n",
    "    \n",
    "    def predict(self, data):\n",
    "        probs = self.feed_forward(data)\n",
    "        return np.argmax(probs, axis=1)"
   ]
  },
  {
   "cell_type": "code",
   "execution_count": 187,
   "metadata": {},
   "outputs": [
    {
     "name": "stderr",
     "output_type": "stream",
     "text": [
      "/Users/azoachaforcheh/miniconda2/lib/python2.7/site-packages/ipykernel_launcher.py:9: RuntimeWarning: invalid value encountered in divide\n",
      "  if __name__ == '__main__':\n"
     ]
    }
   ],
   "source": [
    "model = SingleLayerNN(ion_train['Xtrain'], ion_train['ytrain'],\n",
    "                      hidden = 360, epochs=10000, decay = 0.01, l2=0.01)\n",
    "errors = model.fit()"
   ]
  },
  {
   "cell_type": "code",
   "execution_count": 188,
   "metadata": {
    "collapsed": true
   },
   "outputs": [],
   "source": [
    "predictions = model.predict(ion_test['Xtest'])"
   ]
  },
  {
   "cell_type": "code",
   "execution_count": 189,
   "metadata": {},
   "outputs": [
    {
     "data": {
      "text/plain": [
       "0.64"
      ]
     },
     "execution_count": 189,
     "metadata": {},
     "output_type": "execute_result"
    }
   ],
   "source": [
    "n = len(ion_test['ytest'])\n",
    "correct = 0\n",
    "for i in range(n):\n",
    "    if ion_test['ytest'][i] == predictions[i]:\n",
    "        correct +=1\n",
    "1.0*correct/n"
   ]
  }
 ],
 "metadata": {
  "kernelspec": {
   "display_name": "Python 2",
   "language": "python",
   "name": "python2"
  },
  "language_info": {
   "codemirror_mode": {
    "name": "ipython",
    "version": 2
   },
   "file_extension": ".py",
   "mimetype": "text/x-python",
   "name": "python",
   "nbconvert_exporter": "python",
   "pygments_lexer": "ipython2",
   "version": "2.7.13"
  }
 },
 "nbformat": 4,
 "nbformat_minor": 2
}
