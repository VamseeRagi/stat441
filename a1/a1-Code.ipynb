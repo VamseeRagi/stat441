{
 "cells": [
  {
   "cell_type": "markdown",
   "metadata": {},
   "source": [
    "Azoacha Forcheh, 20558994\n",
    "\n",
    "STAT 441: Classification\n",
    "\n",
    "Assignment 1"
   ]
  },
  {
   "cell_type": "code",
   "execution_count": null,
   "metadata": {
    "collapsed": true
   },
   "outputs": [],
   "source": [
    "from scipy.io import loadmat\n",
    "from scipy.linalg import sqrtm"
   ]
  },
  {
   "cell_type": "code",
   "execution_count": null,
   "metadata": {
    "collapsed": true
   },
   "outputs": [],
   "source": [
    "import matplotlib.pyplot as plt\n",
    "from matplotlib.offsetbox import AnnotationBbox, OffsetImage\n",
    "%matplotlib inline\n",
    "import numpy as np\n",
    "from numpy.linalg import norm"
   ]
  },
  {
   "cell_type": "code",
   "execution_count": null,
   "metadata": {
    "collapsed": true
   },
   "outputs": [],
   "source": [
    "def plotimages(images, Y, scale=0.9, proportion=0.2):\n",
    "    '''\n",
    "    Input:\n",
    "        images: images, must be in a 3-dimensional matrix (x by y by n)\n",
    "            e.g. if X is 64 by 400 and size of each image is 8 by 8, \n",
    "            images=np.reshape(X,(8,8,400));\n",
    "        Y: coordinates of where to plot the image (Y(1,:) by Y(2,:)\n",
    "        scale: scale of each image wrt to figure size (scale <= 1, e.g. 0.8)\n",
    "        proportion: proportion of the data to be ploted (proportion <= 1)\n",
    "            e.g. if there are 400 data points proportion = 1, plots\n",
    "            all 400 data points and proportion = 0.5 plot only 200 data points \n",
    "            (i.e. 1th, 3th, 5th, ...)\n",
    "    Ali Ghodsi 2006\n",
    "    '''\n",
    "    Y /= norm(Y, axis = 1, ord=2).reshape((Y.shape[0],1))\n",
    "    inc = np.floor(1/proportion)\n",
    "    \n",
    "    image_width = images.shape[0]\n",
    "    image_height = images.shape[1] \n",
    "    n_images = images.shape[2]\n",
    "    \n",
    "    plt.gray()\n",
    "    fig = plt.gcf()\n",
    "    fig.clf()\n",
    "    ax = plt.subplot(111)\n",
    "    ax.set_xlim((Y[0,:].min()*1.2,Y[0,:].max()*1.2))\n",
    "    ax.set_ylim((Y[1,:].min()*1.2,Y[1,:].max()*1.2))\n",
    "    \n",
    "    for counter in np.arange(0,n_images,inc):\n",
    "        counter = int(counter)\n",
    "        xy = (Y[0,counter],Y[1,counter])\n",
    "        current_image = 1-np.reshape(images[:,:,counter], \n",
    "                                     (image_width,image_height))\n",
    "        imagebox = OffsetImage(current_image, zoom=scale)\n",
    "        ab = AnnotationBbox(imagebox, xy, xybox=(1., -1.), xycoords='data', \n",
    "                            boxcoords=\"offset points\", frameon=False)                                  \n",
    "        ax.add_artist(ab)\n",
    "        plt.draw()\n",
    "    #plt.show()"
   ]
  },
  {
   "cell_type": "markdown",
   "metadata": {},
   "source": [
    "### Part (a)"
   ]
  },
  {
   "cell_type": "code",
   "execution_count": null,
   "metadata": {
    "collapsed": true
   },
   "outputs": [],
   "source": [
    "X = loadmat('0_1_2.mat')['X']\n",
    "(d, n) = X.shape"
   ]
  },
  {
   "cell_type": "code",
   "execution_count": null,
   "metadata": {
    "collapsed": true
   },
   "outputs": [],
   "source": [
    "mu = np.mean(X, axis=1).reshape(d, 1)\n",
    "X_mean = np.dot(mu, np.ones((1, n)))\n",
    "X_tilde = X - X_mean"
   ]
  },
  {
   "cell_type": "code",
   "execution_count": null,
   "metadata": {
    "collapsed": true
   },
   "outputs": [],
   "source": [
    "U, S, V = np.linalg.svd(X_tilde)\n",
    "pcps = np.transpose(U[:, 0:2])\n",
    "Y_pca = np.dot(pcps, X_tilde)"
   ]
  },
  {
   "cell_type": "code",
   "execution_count": null,
   "metadata": {},
   "outputs": [],
   "source": [
    "images = np.reshape(X,(8,8,n))\n",
    "plotimages(images, Y_pca, 1, 1)\n",
    "plt.show()"
   ]
  },
  {
   "cell_type": "markdown",
   "metadata": {},
   "source": [
    "### Part (b)"
   ]
  },
  {
   "cell_type": "code",
   "execution_count": null,
   "metadata": {
    "collapsed": true
   },
   "outputs": [],
   "source": [
    "S_w = np.zeros((d, d))\n",
    "\n",
    "for i in range(1,4):\n",
    "    k = i*100\n",
    "    j = k - 100\n",
    "    X_i = X[:, j:k]\n",
    "    mu_i = np.mean(X_i, axis=1).reshape(d, 1)\n",
    "    mean_i = np.dot(mu_i, np.ones((1, 100)))\n",
    "    X_i = X_i - mean_i\n",
    "    S_w = S_w + np.dot(X_i, np.transpose(X_i))"
   ]
  },
  {
   "cell_type": "code",
   "execution_count": null,
   "metadata": {
    "collapsed": true
   },
   "outputs": [],
   "source": [
    "S_t = np.dot(X_tilde, np.transpose(X_tilde))/n\n",
    "S_b =  S_t - S_w\n",
    "M = np.dot(np.linalg.inv(S_w), S_b)\n",
    "E, W = np.linalg.eig(M)"
   ]
  },
  {
   "cell_type": "code",
   "execution_count": null,
   "metadata": {
    "collapsed": true
   },
   "outputs": [],
   "source": [
    "discrims = np.transpose(W[:, 0:2])\n",
    "Y_fda = np.dot(discrims, X)"
   ]
  },
  {
   "cell_type": "code",
   "execution_count": null,
   "metadata": {},
   "outputs": [],
   "source": [
    "# using images = np.reshape(X,(8,8,n)) run above\n",
    "plotimages(images, Y_fda, 1, 1)\n",
    "plt.show()"
   ]
  },
  {
   "cell_type": "markdown",
   "metadata": {},
   "source": [
    "### Part (c)"
   ]
  },
  {
   "cell_type": "code",
   "execution_count": null,
   "metadata": {
    "collapsed": true
   },
   "outputs": [],
   "source": [
    "def summary_values(data, k):\n",
    "    '''\n",
    "    data: the dataset\n",
    "    k: the number of classes in the dataset\n",
    "    Assumes that there are m*k data points in the dataset,\n",
    "        where m is a positive integer, with the next i*k \n",
    "        data points being from class i\n",
    "    '''\n",
    "    means = []\n",
    "    covars = []\n",
    "    (dim, npoints) = data.shape\n",
    "    ppc = npoints/k # the number of points per class\n",
    "    for i in range(1,k+1):\n",
    "        # get the class mean\n",
    "        b = i*ppc\n",
    "        a = b - ppc\n",
    "        data_i = data[:, a:b]\n",
    "        mu_i = np.mean(data_i, axis=1).reshape(dim, 1)\n",
    "        means.append(mu_i)\n",
    "        \n",
    "        # calculate the within class covariance\n",
    "        mean_i = np.dot(mu_i, np.ones((1, ppc)))\n",
    "        data_i = data_i - mean_i\n",
    "        sigma_i = np.dot(data_i, np.transpose(data_i))/(ppc - dim)\n",
    "        covars.append(sigma_i)  \n",
    "    return (means, covars)\n",
    "\n",
    "class_means, class_covars = summary_values(Y_pca, 3)"
   ]
  },
  {
   "cell_type": "code",
   "execution_count": null,
   "metadata": {
    "collapsed": true
   },
   "outputs": [],
   "source": [
    "# Linear boundaries\n",
    "sigma = sum(class_covars) \n",
    "xcoeffs = [np.dot(np.linalg.inv(sigma), mu) for mu in class_means]\n",
    "consts = []\n",
    "for i in range(len(slopes)):\n",
    "    intercept = 0 - np.log(3) - (np.dot(\n",
    "        np.transpose(class_means[i]), xcoeffs[i])/2)\n",
    "    consts.append(intercept[0][0])\n",
    "    \n",
    "slopes = [xcoeffs[1]-xcoeffs[0], \n",
    "          xcoeffs[1]-xcoeffs[2], \n",
    "          xcoeffs[2]-xcoeffs[0]]\n",
    "intercepts = [consts[1]-consts[0], \n",
    "              consts[1]-consts[2], \n",
    "              consts[2]-consts[0]]"
   ]
  },
  {
   "cell_type": "code",
   "execution_count": null,
   "metadata": {
    "collapsed": true
   },
   "outputs": [],
   "source": [
    "# Quadratic boundaries\n",
    "dets = [np.linalg.det(sig) for sig in class_covars]\n",
    "mean_sig = []\n",
    "\n",
    "for i in range(3):\n",
    "    c = np.dot(np.linalg.inv(class_covars[i]), class_means[i])\n",
    "    mean_sig.append(c)\n",
    "\n",
    "# constant terms\n",
    "a0 = [0]*3\n",
    "a0[0] = (np.log(dets[1]) - np.log(dets[0]) +\n",
    "          np.dot(np.transpose(class_means[1]), mean_sig[1]) -\n",
    "          np.dot(np.transpose(class_means[0]), mean_sig[0]))\n",
    "a0[1] = (np.log(dets[1]) - np.log(dets[2]) +\n",
    "          np.dot(np.transpose(class_means[1]), mean_sig[1]) -\n",
    "          np.dot(np.transpose(class_means[2]), mean_sig[2]))\n",
    "a0[2] = (np.log(dets[2]) - np.log(dets[0]) +\n",
    "          np.dot(np.transpose(class_means[2]), mean_sig[2]) -\n",
    "          np.dot(np.transpose(class_means[0]), mean_sig[0]))\n",
    "a0 = [-0.5*elem[0][0] for elem in a0]\n",
    "\n",
    "# x coefficients\n",
    "a1 = [0]*3\n",
    "a1[0] = mean_sig[1] - mean_sig[0]\n",
    "a1[1] = mean_sig[1] - mean_sig[2]\n",
    "a1[2] = mean_sig[2] - mean_sig[0]\n",
    "\n",
    "# x^2 coefficients\n",
    "a2 = [0]*3\n",
    "a2[0] = -0.5*(class_covars[1] - class_covars[0])\n",
    "a2[1] = -0.5*(class_covars[1] - class_covars[2])\n",
    "a2[2] = -0.5*(class_covars[2] - class_covars[0])"
   ]
  },
  {
   "cell_type": "markdown",
   "metadata": {},
   "source": [
    "### Part (d)"
   ]
  },
  {
   "cell_type": "code",
   "execution_count": null,
   "metadata": {},
   "outputs": [],
   "source": [
    "# using images = np.reshape(X,(8,8,n)) from above\n",
    "plotimages(images, Y_pca, 1, 1)\n",
    "\n",
    "x_min, x_max = -0.10, 0.10\n",
    "\n",
    "# Linear Coefficients\n",
    "xm1 = slopes[0][0][0]\n",
    "ym1 = slopes[0][1][0]\n",
    "xm2 = slopes[1][0][0]\n",
    "ym2 = slopes[1][1][0]\n",
    "xm3 = slopes[2][0][0]\n",
    "ym3 = slopes[2][1][0]\n",
    "\n",
    "c1 = intercepts[0]\n",
    "c2 = intercepts[1]\n",
    "c3 = intercepts[2]\n",
    "\n",
    "lx = np.linspace(x_min, x_max)\n",
    "lin_y1 = ((-1*lx*xm1) - c1)/ym1\n",
    "lin_y2 = ((-1*lx*xm2) - c2)/ym2\n",
    "lin_y3 = ((-1*lx*xm3) - c3)/ym3\n",
    "\n",
    "plt.plot(lx, lin_y1, color = 'red') \n",
    "plt.plot(lx, lin_y2, color = 'red') \n",
    "plt.plot(lx, lin_y3, color = 'red')\n",
    "\n",
    "# Quadratic Coefficients\n",
    "ax1 = np.sum(a2[0][0])\n",
    "ay1 = np.sum(a2[0][1])\n",
    "b1 = np.sum(a2[0])\n",
    "cx1 = a1[0][0][0]\n",
    "cy1 = a1[0][1][0]\n",
    "d1 = a0[0]\n",
    "\n",
    "ax2 = np.sum(a2[1][0])\n",
    "ay2 = np.sum(a2[1][1])\n",
    "b2 = np.sum(a2[1])\n",
    "cx2 = a1[1][0][0]\n",
    "cy2 = a1[1][1][0]\n",
    "d2 = a0[1]\n",
    "\n",
    "ax3 = np.sum(a2[2][0])\n",
    "ay3 = np.sum(a2[2][1])\n",
    "b3 = np.sum(a2[2])\n",
    "cx3 = a1[2][0][0]\n",
    "cy3 = a1[2][1][0]\n",
    "d3 = a0[2]\n",
    "\n",
    "y_min, y_max = -0.10, 0.25 \n",
    "y_range = np.linspace(y_min, y_max)\n",
    "\n",
    "x, y = np.meshgrid(x_range, y_range)\n",
    "\n",
    "plt.contour(x, y,\n",
    "            (ax1*x*x)+(ay1*y*y)+(b1*x*y)+(cx1*x)+(cy1*y)+d1, \n",
    "            [0], colors = 'blue')\n",
    "plt.contour(x, y,\n",
    "            (ax2*x*x)+(ay2*y*y)+(b2*x*y)+(cx2*x)+(cy2*y)+d2, \n",
    "            [0], colors = 'blue')\n",
    "plt.contour(x, y,\n",
    "            (ax3*x*x)+(ay3*y*y)+(b3*x*y)+(cx3*x)+(cy3*y)+d3, \n",
    "            [0], colors = 'blue')\n",
    "\n",
    "plt.show()"
   ]
  },
  {
   "cell_type": "markdown",
   "metadata": {},
   "source": [
    "### Part (e)"
   ]
  },
  {
   "cell_type": "code",
   "execution_count": null,
   "metadata": {
    "collapsed": true
   },
   "outputs": [],
   "source": [
    "def euclidean_lda(data, means):\n",
    "    (d, n) = data.shape\n",
    "    U, S, V = np.linalg.svd(data)\n",
    "    S = np.diag(S)\n",
    "    T = np.dot(np.linalg.inv(sqrtm(S)), np.transpose(U))\n",
    "    X_hat = np.dot(T, data)\n",
    "    X_mus = [np.dot(T, mu) for mu in means]\n",
    "    \n",
    "    Y = [0]*n\n",
    "    for i in range(n):\n",
    "        dist0 = np.dot(np.transpose(X_hat[:, i] - X_mus[0]),\n",
    "                       X_hat[:,i] - X_mus[0])[0][0]\n",
    "        dist1 = np.dot(np.transpose(X_hat[:,i] - X_mus[1]),\n",
    "                       X_hat[:,i] - X_mus[1])[0][0]\n",
    "        dist2 = np.dot(np.transpose(X_hat[:,i] - X_mus[2]),\n",
    "                       X_hat[:,i] - X_mus[2])[0][0]\n",
    "        \n",
    "        if dist0 <= dist1 and dist0 <= dist2:\n",
    "            Y[i] = 0\n",
    "        elif dist1 <= dist0 and dist0 <= dist1:\n",
    "            Y[i] = 1\n",
    "        else:\n",
    "            Y[i] = 2\n",
    "    return Y"
   ]
  },
  {
   "cell_type": "code",
   "execution_count": null,
   "metadata": {
    "collapsed": true
   },
   "outputs": [],
   "source": [
    "# Error rates\n",
    "X_class_means = []\n",
    "for i in range(1,4):\n",
    "    b = i*100\n",
    "    a = b - 100\n",
    "    data_i = X[:, a:b]\n",
    "    mu_i = np.mean(data_i, axis=1).reshape(d, 1)\n",
    "    X_class_means.append(mu_i)\n",
    "    \n",
    "Y_lda = euclidean_lda(X, X_class_means)"
   ]
  },
  {
   "cell_type": "code",
   "execution_count": null,
   "metadata": {},
   "outputs": [],
   "source": [
    "Y_wrong = 0\n",
    "for i in range(n):\n",
    "    if i < 100:\n",
    "        if Y_lda[i] != 0:\n",
    "            Y_wrong = Y_wrong + 1\n",
    "    elif i < 200:\n",
    "        if Y_lda[i] != 1:\n",
    "            Y_wrong = Y_wrong + 1\n",
    "    else:\n",
    "        if Y_lda[i] != 2:\n",
    "            Y_wrong = Y_wrong + 1\n",
    "            \n",
    "L_n = Y_wrong/float(n)\n",
    "print(\"The empirical error rate for the LDA is: {0:.000f}%.\"\n",
    "      .format(L_n))"
   ]
  }
 ],
 "metadata": {
  "kernelspec": {
   "display_name": "Python 2",
   "language": "python",
   "name": "python2"
  },
  "language_info": {
   "codemirror_mode": {
    "name": "ipython",
    "version": 2
   },
   "file_extension": ".py",
   "mimetype": "text/x-python",
   "name": "python",
   "nbconvert_exporter": "python",
   "pygments_lexer": "ipython2",
   "version": "2.7.13"
  }
 },
 "nbformat": 4,
 "nbformat_minor": 2
}
