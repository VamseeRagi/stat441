{
 "cells": [
  {
   "cell_type": "code",
   "execution_count": null,
   "metadata": {
    "collapsed": true
   },
   "outputs": [],
   "source": [
    "import matplotlib.pyplot as plt\n",
    "from matplotlib.offsetbox import AnnotationBbox, OffsetImage\n",
    "%matplotlib inline\n",
    "import numpy as np\n",
    "from numpy.linalg import norm"
   ]
  },
  {
   "cell_type": "code",
   "execution_count": null,
   "metadata": {
    "collapsed": true
   },
   "outputs": [],
   "source": [
    "def plotimages(images, Y, scale=0.9, proportion=0.2):\n",
    "    '''\n",
    "    Input:\n",
    "        images: images, must be in a 3-dimensional matrix (x by y by n)\n",
    "            e.g. if X is 64 by 400 and size of each image is 8 by 8, images=np.reshape(X,(8,8,400));\n",
    "        Y: coordinates of where to plot the image (Y(1,:) by Y(2,:)\n",
    "        scale: scale of each image wrt to figure size (scale <= 1, e.g. 0.8)\n",
    "        proportion: proportion of the data to be ploted (proportion <= 1)\n",
    "            e.g. if there are 400 data points proportion = 1, plots\n",
    "            all 400 data points and proportion = 0.5 plot only 200 data points \n",
    "            (i.e. 1th, 3th, 5th, ...)\n",
    "    Ali Ghodsi 2006\n",
    "    '''\n",
    "    Y /= norm(Y, axis = 1, ord=2).reshape((Y.shape[0],1))\n",
    "    inc = np.floor(1/proportion)\n",
    "    \n",
    "    image_width = images.shape[0]\n",
    "    image_height = images.shape[1] \n",
    "    n_images = images.shape[2]\n",
    "    \n",
    "    plt.gray()\n",
    "    fig = plt.gcf()\n",
    "    fig.clf()\n",
    "    ax = plt.subplot(111)\n",
    "    ax.set_xlim((Y[0,:].min()*1.2,Y[0,:].max()*1.2))\n",
    "    ax.set_ylim((Y[1,:].min()*1.2,Y[1,:].max()*1.2))\n",
    "    \n",
    "    for counter in np.arange(0,n_images,inc):\n",
    "        counter = int(counter)\n",
    "        xy = (Y[0,counter],Y[1,counter])\n",
    "        current_image = 1-np.reshape(images[:,:,counter], (image_width,image_height))\n",
    "        imagebox = OffsetImage(current_image, zoom=scale)\n",
    "        ab = AnnotationBbox(imagebox, xy, xybox=(1., -1.), xycoords='data', boxcoords=\"offset points\", frameon=False)                                  \n",
    "        ax.add_artist(ab)\n",
    "        plt.draw()\n",
    "    plt.show()"
   ]
  },
  {
   "cell_type": "code",
   "execution_count": null,
   "metadata": {
    "collapsed": true
   },
   "outputs": [],
   "source": [
    "# Quadratic Coefficients\n",
    "ax1 = np.sum(a2[0][0])\n",
    "ay1 = np.sum(a2[0][1])\n",
    "b1 = np.sum(a2[0])\n",
    "cx1 = a1[0][0][0]\n",
    "cy1 = a1[0][1][0]\n",
    "d1 = a0[0]\n",
    "\n",
    "ax2 = np.sum(a2[1][0])\n",
    "ay2 = np.sum(a2[1][1])\n",
    "b2 = np.sum(a2[1])\n",
    "cx2 = a1[1][0][0]\n",
    "cy2 = a1[1][1][0]\n",
    "d2 = a0[1]\n",
    "\n",
    "ax3 = np.sum(a2[2][0])\n",
    "ay3 = np.sum(a2[2][1])\n",
    "b3 = np.sum(a2[2])\n",
    "cx3 = a1[2][0][0]\n",
    "cy3 = a1[2][1][0]\n",
    "d3 = a0[2]\n",
    "\n",
    "y_min, y_max = -0.10, 0.25 \n",
    "y_range = np.linspace(y_min, y_max)\n",
    "\n",
    "qx, qy = np.meshgrid(lx, y_range)\n",
    "\n",
    "plt.contour(qx, qy,\n",
    "            (ax1*qx**2)+(ay1*qy**2)+(b1*qx*qy)+(cx1*qx)+(cy1*qy)+d1, \n",
    "            [0], colors = 'blue')\n",
    "plt.contour(qx, qy,\n",
    "            (ax2*qx**2)+(ay2*qy**2)+(b2*qx*qy)+(cx2*qx)+(cy2*qy)+d2, \n",
    "            [0], colors = 'blue')\n",
    "plt.contour(qx, qy,\n",
    "            (ax3*qx**2)+(ay3*qy**2)+(b3*qx*qy)+(cx3*qx)+(cy3*qy)+d3, \n",
    "            [0], colors = 'blue')\n",
    "\n",
    "plt.show()"
   ]
  }
 ],
 "metadata": {
  "kernelspec": {
   "display_name": "Python 2",
   "language": "python",
   "name": "python2"
  },
  "language_info": {
   "codemirror_mode": {
    "name": "ipython",
    "version": 2
   },
   "file_extension": ".py",
   "mimetype": "text/x-python",
   "name": "python",
   "nbconvert_exporter": "python",
   "pygments_lexer": "ipython2",
   "version": "2.7.13"
  }
 },
 "nbformat": 4,
 "nbformat_minor": 2
}
