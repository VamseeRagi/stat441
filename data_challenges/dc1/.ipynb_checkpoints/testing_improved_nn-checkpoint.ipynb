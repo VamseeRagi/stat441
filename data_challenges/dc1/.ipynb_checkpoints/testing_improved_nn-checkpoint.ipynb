{
 "cells": [
  {
   "cell_type": "code",
   "execution_count": null,
   "metadata": {},
   "outputs": [
    {
     "name": "stderr",
     "output_type": "stream",
     "text": [
      "Using TensorFlow backend.\n"
     ]
    }
   ],
   "source": [
    "import numpy as np\n",
    "import pandas as pd\n",
    "import tensorflow as tf\n",
    "from scipy import misc\n",
    "\n",
    "from keras.applications.mobilenet import MobileNet\n",
    "from keras.layers import Input,Dense,Dropout,Lambda\n",
    "from keras.models import Model\n",
    "from keras import backend as K\n",
    "\n",
    "# Loading the training data as numpy arrays\n",
    "training_set = pd.read_csv(\"fashion-mnist_train.csv\", dtype='int')\n",
    "X_train = training_set.drop('label', axis = 1).as_matrix()\n",
    "Y_train = training_set['label'].as_matrix()\n",
    "\n",
    "dim = 28"
   ]
  },
  {
   "cell_type": "code",
   "execution_count": null,
   "metadata": {
    "collapsed": true
   },
   "outputs": [],
   "source": [
    "# Preprocessing data: doubling the dimensions since they are 28px (< 32)\n",
    "#   and hence do not have valid input shape for the MobileNet model\n",
    "def double_dimensions(images, height, width=-1):\n",
    "    '''\n",
    "    double_dimensions(images, height, width) doubles the size\n",
    "        of the image data in the numpy array images\n",
    "    height and width must be the current dimensions of the images\n",
    "    If width is omitted, the data is treated as square images, i.e.\n",
    "        width = height\n",
    "    '''\n",
    "    if width == -1:\n",
    "        width = height\n",
    "\n",
    "    # reshaping data to actual image dimensions and doubling the size\n",
    "    width_x2 = width * 2\n",
    "    height_x2 = height * 2\n",
    "    resized_images = [1.0*misc.imresize(img.reshape(height, width),\n",
    "                                          (height_x2, width_x2))\n",
    "                      for img in images]\n",
    "\n",
    "    return np.array(resized_images) / 255\n",
    "\n",
    "\n",
    "X_train = double_dimensions(X_train, dim)"
   ]
  },
  {
   "cell_type": "code",
   "execution_count": null,
   "metadata": {
    "collapsed": true
   },
   "outputs": [],
   "source": [
    "## Training the model\n",
    "\n",
    "# The Input Layer: accepts 56 by 56 images\n",
    "input_image = Input(shape=(dim*2,dim*2))\n",
    "# Adding image channels to data\n",
    "input_image_dim = Lambda(lambda x: K.repeat_elements(K.expand_dims(x,3),3,3))(input_image)\n",
    "# Using MobileNet as the pre-trained base model\n",
    "base_model = MobileNet(input_tensor=input_image_dim, include_top=False, pooling='avg')\n",
    "# Randomly dropping 1/2 of the input units to prevent overfitting\n",
    "output = Dropout(0.5)(base_model.output)\n",
    "# Adding a logistic layer for 10 classes\n",
    "predict = Dense(10, activation='softmax')(output)\n",
    "\n",
    "# the final model to train\n",
    "model = Model(inputs=input_image, outputs=predict)\n",
    "model.compile(optimizer='adam', loss='sparse_categorical_crossentropy', metrics=['accuracy'])\n",
    "#model.summary()\n",
    "\n",
    "model.fit(X_train, Y_train, batch_size=200, epochs=15)"
   ]
  },
  {
   "cell_type": "code",
   "execution_count": null,
   "metadata": {
    "collapsed": true
   },
   "outputs": [],
   "source": [
    "# Predicting labels on the test set\n",
    "test_set = pd.read_csv(\"test_data.csv\", index_col=0, dtype='int')\n",
    "X_test = test_set.as_matrix()\n",
    "X_test = double_dimensions(X_test, dim)\n",
    "\n",
    "Y_probs = model.predict(X_test)\n",
    "Y_predicted = Y_probs.argmax(axis=-1)\n",
    "\n",
    "# Creating the submission\n",
    "mn_sel_submit = pd.DataFrame({'ids': [i for i in range(10000)],\n",
    "                             'label': Y_predicted}, dtype=int)\n",
    "mn_sel_submit.to_csv('improved_mn_predictions.csv', index=False)"
   ]
  }
 ],
 "metadata": {
  "kernelspec": {
   "display_name": "Python 3",
   "language": "python",
   "name": "python3"
  },
  "language_info": {
   "codemirror_mode": {
    "name": "ipython",
    "version": 3
   },
   "file_extension": ".py",
   "mimetype": "text/x-python",
   "name": "python",
   "nbconvert_exporter": "python",
   "pygments_lexer": "ipython3",
   "version": "3.5.3"
  }
 },
 "nbformat": 4,
 "nbformat_minor": 2
}
